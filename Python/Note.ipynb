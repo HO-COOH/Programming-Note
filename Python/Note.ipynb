{
 "cells": [
  {
   "cell_type": "markdown",
   "metadata": {
    "pycharm": {
     "name": "#%% md\n"
    }
   },
   "source": [
    "# Python"
   ]
  },
  {
   "cell_type": "markdown",
   "metadata": {
    "pycharm": {
     "is_executing": false,
     "name": "#%% md\n"
    }
   },
   "source": [
    "## Variable\n",
    "\n",
    "### Numbers\n",
    "Division always returns a floating point number.\n",
    "- To do **floor division** and get an integer result (discarding fractional part), use ``//`` operator.\n",
    "- Calculate the remainder, use ``%`` operator.\n",
    "- Calculate power exponential, use ``**`` operator.\n",
    "- Operators with mixed type operands get converted to floating point"
   ]
  },
  {
   "cell_type": "code",
   "execution_count": 3,
   "metadata": {
    "pycharm": {
     "is_executing": false,
     "name": "#%%\n"
    }
   },
   "outputs": [
    {
     "output_type": "stream",
     "name": "stdout",
     "text": "1.6\n1\n3\n128\n2.3333333333333335\n"
    }
   ],
   "source": [
    "print(8/5)\n",
    "print(8//5)\n",
    "print(8%5)\n",
    "print(2**7) #2^7 == 128\n",
    "print(1/3+2)"
   ]
  },
  {
   "cell_type": "markdown",
   "metadata": {},
   "source": [
    "#### Floating point\n",
    "Floating point in python is approximation too (except which can be represented exactly in binary form).\n",
    "\n",
    "Use ``decimal`` module for exact decimal arithmetic. Use ``fractions`` module which implements arithmetic based on rational numbers.\n",
    "\n",
    "See:https://docs.python.org/3/tutorial/floatingpoint.html"
   ]
  },
  {
   "cell_type": "code",
   "execution_count": 6,
   "metadata": {},
   "outputs": [
    {
     "output_type": "stream",
     "name": "stdout",
     "text": "0.1\n0.3\n0.30000000000000004\nFalse\nTrue\n(3602879701896397, 36028797018963968)\n"
    }
   ],
   "source": [
    "print(0.1)\n",
    "print(0.3)\n",
    "print(0.1+0.1+0.1)\n",
    "print(0.1+0.1+0.1==0.3)     # False\n",
    "print(0.1+0.1+0.1==0.2+0.1) # True\n",
    "print(0.1.as_integer_ratio())"
   ]
  },
  {
   "cell_type": "markdown",
   "metadata": {
    "pycharm": {
     "name": "#%% md\n"
    }
   },
   "source": [
    "### Strings\n",
    "Strings can be enclosed in single quotes ``'some string'`` or double quotes ``\"some string\"``. ``\\`` is used as escape character.  \n",
    "If the string contains a single quote, use double quote to enclose it.  \n",
    "String literals can span multiple lines. One way is using triple quotes ``\"\"\"some long string\"\"\"`` or ``'''some long string'''``. End of line are automatically included, but it's possible to add a ``\\`` at the end to prevent this."
   ]
  },
  {
   "cell_type": "code",
   "execution_count": 1,
   "metadata": {
    "pycharm": {
     "is_executing": false,
     "name": "#%%\n"
    }
   },
   "outputs": [
    {
     "output_type": "stream",
     "name": "stdout",
     "text": "This string contains a new \n line character \nUsage: thingy [OPTIONS]\n    -h              Display this usage message\n    -H hostname     Hostname to connect to\n"
    }
   ],
   "source": [
    "print(\"This string contains a new \\n line character \")\n",
    "print(\"\"\"Usage: thingy [OPTIONS]\n",
    "    -h              Display this usage message\n",
    "    -H hostname     Hostname to connect to\"\"\")"
   ]
  },
  {
   "cell_type": "markdown",
   "metadata": {
    "pycharm": {
     "name": "#%% md\n"
    }
   },
   "source": [
    "#### Raw string literals\n",
    "If you don't want `'\\'` to be interpret as special characters, add an ``r`` before the first quote to get a raw string."
   ]
  },
  {
   "cell_type": "code",
   "execution_count": 28,
   "metadata": {
    "pycharm": {
     "is_executing": false,
     "name": "#%%\n"
    }
   },
   "outputs": [
    {
     "name": "stdout",
     "output_type": "stream",
     "text": [
      "C:\\Program Files\\\\\n"
     ]
    }
   ],
   "source": [
    "print(r'C:\\Program Files\\\\')"
   ]
  },
  {
   "cell_type": "markdown",
   "metadata": {
    "pycharm": {
     "name": "#%% md\n"
    }
   },
   "source": [
    "#### Operators\n",
    "- Concatenation: ``+`` (Two or more string literals placed next to each other are automatically concatenated)\n",
    "- Repeat: ``[times] * someString`` or ``someString * [times]``\n",
    "- Index: ``[n]``\n",
    "    + Negative index means counting from the right\n",
    "```\n",
    " +---+---+---+---+---+---+\n",
    " | P | y | t | h | o | n |\n",
    " +---+---+---+---+---+---+\n",
    " 0   1   2   3   4   5   6\n",
    "-6  -5  -4  -3  -2  -1\n",
    "```\n",
    "- Slice: ``[start:end] range: [start, end)``\n",
    "    + Omit start -> 0\n",
    "    + Omit end -> end\n",
    "    "
   ]
  },
  {
   "cell_type": "code",
   "execution_count": 31,
   "metadata": {
    "pycharm": {
     "is_executing": false,
     "name": "#%%\n"
    }
   },
   "outputs": [
    {
     "name": "stdout",
     "output_type": "stream",
     "text": [
      "HelloWorld\n",
      "HelloHelloHello\n",
      "HelloHelloHello\n",
      "e\n",
      "Hel\n",
      "Hell\n",
      "llo\n"
     ]
    }
   ],
   "source": [
    "str1=\"Hello\"\n",
    "str2=\"World\"\n",
    "print(str1+str2)\n",
    "print(str1 * 3)\n",
    "print(3 * str1)\n",
    "print(str1[1]) #'e'\n",
    "print(str1[0:3])\n",
    "print(str1[:4])\n",
    "print(str1[2:])"
   ]
  },
  {
   "cell_type": "markdown",
   "metadata": {
    "pycharm": {
     "name": "#%% md\n"
    }
   },
   "source": [
    "#### Functions\n",
    "- ``len()`` return the length"
   ]
  },
  {
   "cell_type": "markdown",
   "metadata": {
    "pycharm": {
     "name": "#%% md\n"
    }
   },
   "source": [
    "### Operators\n",
    "- index ``[n]``\n",
    "- slice ``[start:end]``: create a shallow copy\n",
    "\n",
    "### Functions\n",
    "- .len()\n",
    "\n",
    "### Nested lists\n",
    "Lists containing other lists"
   ]
  },
  {
   "cell_type": "code",
   "execution_count": 35,
   "metadata": {
    "pycharm": {
     "is_executing": false,
     "name": "#%%\n"
    }
   },
   "outputs": [
    {
     "name": "stdout",
     "output_type": "stream",
     "text": [
      "[['a', 'b', 'c'], [1, 2, 3]]\n"
     ]
    }
   ],
   "source": [
    "letterList=['a','b','c']\n",
    "numberList=[1,2,3]\n",
    "x=[letterList, numberList]\n",
    "print(x)\n",
    " "
   ]
  },
  {
   "cell_type": "markdown",
   "metadata": {
    "pycharm": {
     "name": "#%% md\n"
    }
   },
   "source": [
    "## Statement & keyword & operator\n",
    "### if\n",
    "paired with 0 or more ``elif`` or ``else``.\n",
    "\n",
    "### for\n",
    "- iterate over items of sequence\n",
    "- iterate in ``range``\n",
    "    + range(end):               return a range object [0,1,...,end-1]\n",
    "    + range(start, end, step)   return a range object [start, start+step, ..., end) \n",
    "    \n",
    "### break\n",
    "\n",
    "### continue\n",
    "\n",
    "### pass\n",
    "The ``pass`` statement does nothing. It can be used when a statement is required sytactically but the program requires no action.  \n",
    "\n",
    "```python\n",
    "while True:\n",
    "    pass    # Busy-wait for keyboard interrupt\n",
    "```\n",
    "This is commonly used for creating minimal classes.\n",
    "```python\n",
    "class EmptyClass:\n",
    "    pass\n",
    "```\n",
    "Or used as a place-holder for a function or conditional body when working on new code.\n",
    "```python\n",
    "def implementInFuture(*args):\n",
    "    pass\n",
    "```\n",
    "### in/not in\n",
    "Check whether a value occurs / not occurs in a sequence and return a bool value.\n",
    "### and/or\n",
    "``and`` and ``or`` are short-circuit operators."
   ]
  },
  {
   "cell_type": "markdown",
   "metadata": {
    "pycharm": {
     "name": "#%% md\n"
    }
   },
   "source": [
    "## Functions\n",
    "- Start with a ``def`` keyword, followed by name and argument list\n",
    "- Default argument are evaluated only once. To prevent this from modifying the same mutable type (such as list), use a value\n",
    "- Keyword argument is named argument, opposite to positional argument, which is unnamed argument. In function call, keyword arguments must follow positional arguments.\n",
    "    Keyword argument takes the form ``parameterName=value`` in a function call.\n",
    "- ``**name`` accepts all keyword arguments except those prior arguments and forms a **dictionary** (a {key, value} pair\n",
    "- ``*name`` accepts all positional arguments and forms a tuple ( {arg1, arg2...} )\n",
    "- ``*name`` must occur before ``**name``\n"
   ]
  },
  {
   "cell_type": "code",
   "execution_count": 48,
   "metadata": {
    "pycharm": {
     "is_executing": false,
     "name": "#%%\n"
    }
   },
   "outputs": [
    {
     "name": "stdout",
     "output_type": "stream",
     "text": [
      "This is a simple function.\n",
      "1 into list ->  []\n",
      "After inserting [1]\n",
      "2 into list ->  [1]\n",
      "After inserting [1, 2]\n",
      "3 into list ->  [1, 2]\n",
      "After inserting [1, 2, 3]\n",
      "1 into list ->  []\n",
      "After inserting [1]\n",
      "2 into list ->  []\n",
      "After inserting [2]\n",
      "3 into list ->  []\n",
      "After inserting [3]\n",
      "-- This parrot wouldn't voom if you put 1000 volts through it.\n",
      "-- Lovely plumage, the Norwegian Blue\n",
      "-- It's a stiff !\n",
      "-- This parrot wouldn't voom if you put 1000 volts through it.\n",
      "-- Lovely plumage, the Norwegian Blue\n",
      "-- It's a stiff !\n",
      "-- This parrot wouldn't VOOOOOM if you put 1000000 volts through it.\n",
      "-- Lovely plumage, the Norwegian Blue\n",
      "-- It's a stiff !\n",
      "-- This parrot wouldn't VOOOOOM if you put 1000000 volts through it.\n",
      "-- Lovely plumage, the Norwegian Blue\n",
      "-- It's a stiff !\n",
      "-- This parrot wouldn't jump if you put a million volts through it.\n",
      "-- Lovely plumage, the Norwegian Blue\n",
      "-- It's bereft of life !\n",
      "-- This parrot wouldn't voom if you put a thousand volts through it.\n",
      "-- Lovely plumage, the Norwegian Blue\n",
      "-- It's pushing up the daisies !\n",
      "-- Do you have any Limburger ?\n",
      "-- I'm sorry, we're all out of Limburger\n",
      "It's very runny, sir.\n",
      "It's really very, VERY runny, sir.\n",
      "----------------------------------------\n",
      "shopkeeper : Michael Palin\n",
      "client : John Cleese\n",
      "sketch : Cheese Shop Sketch\n"
     ]
    }
   ],
   "source": [
    "def simpleFunction():\n",
    "    print(\"This is a simple function.\")\n",
    "\n",
    "simpleFunction()\n",
    "\n",
    "def function_with_default_argument(a, someList=[]):\n",
    "    print(str(a)+\" into list -> \",someList)\n",
    "    someList.append(a)\n",
    "    print(\"After inserting\", someList)\n",
    "\n",
    "function_with_default_argument(1)\n",
    "function_with_default_argument(2)\n",
    "function_with_default_argument(3)\n",
    "\n",
    "\n",
    "def function_with_default_argument2(a, someList=None):\n",
    "    if someList is None:\n",
    "        someList=[]\n",
    "    print(str(a)+\" into list -> \",someList)\n",
    "    someList.append(a)\n",
    "    print(\"After inserting\", someList)\n",
    "    \n",
    "function_with_default_argument2(1)\n",
    "function_with_default_argument2(2)\n",
    "function_with_default_argument2(3)\n",
    "\n",
    "\n",
    "def parrot(voltage, state='a stiff', action='voom', type='Norwegian Blue'):\n",
    "    print(\"-- This parrot wouldn't\", action, end=' ')\n",
    "    print(\"if you put\", voltage, \"volts through it.\")\n",
    "    print(\"-- Lovely plumage, the\", type)\n",
    "    print(\"-- It's\", state, \"!\")\n",
    "\n",
    "parrot(1000)                                          # 1 positional argument\n",
    "parrot(voltage=1000)                                  # 1 keyword argument\n",
    "parrot(voltage=1000000, action='VOOOOOM')             # 2 keyword arguments\n",
    "parrot(action='VOOOOOM', voltage=1000000)             # 2 keyword arguments\n",
    "parrot('a million', 'bereft of life', 'jump')         # 3 positional arguments\n",
    "parrot('a thousand', state='pushing up the daisies')  # 1 positional, 1 keyword\n",
    "\n",
    "\n",
    "def cheeseshop(kind, *arguments, **keywords):\n",
    "    print(\"-- Do you have any\", kind, \"?\")\n",
    "    print(\"-- I'm sorry, we're all out of\", kind)\n",
    "    for arg in arguments:\n",
    "        print(arg)\n",
    "    print(\"-\" * 40)\n",
    "    for kw in keywords:\n",
    "        print(kw, \":\", keywords[kw])\n",
    "        \n",
    "cheeseshop(\"Limburger\", \"It's very runny, sir.\",    #*arguments -> 2 strings\n",
    "           \"It's really very, VERY runny, sir.\",\n",
    "           shopkeeper=\"Michael Palin\",              #**keywords={ {shopkepper, \"...\"}, {client, \"...\"}, {sketch=\"...\"} }\n",
    "           client=\"John Cleese\",\n",
    "           sketch=\"Cheese Shop Sketch\")\n"
   ]
  },
  {
   "cell_type": "markdown",
   "metadata": {
    "pycharm": {
     "name": "#%% md\n"
    }
   },
   "source": [
    "### Parameter specification\n",
    "Arguments can be either passed according to position or keyword by default.\n",
    "#### Position only\n",
    "Parameter name before ``/`` in function definition are position only."
   ]
  },
  {
   "cell_type": "code",
   "execution_count": 47,
   "metadata": {
    "pycharm": {
     "is_executing": false,
     "name": "#%%\n"
    }
   },
   "outputs": [
    {
     "ename": "SyntaxError",
     "evalue": "invalid syntax (<ipython-input-47-064e77f87aaa>, line 1)",
     "output_type": "error",
     "traceback": [
      "\u001b[0;36m  File \u001b[0;32m\"<ipython-input-47-064e77f87aaa>\"\u001b[0;36m, line \u001b[0;32m1\u001b[0m\n\u001b[0;31m    def position_only_parameter(param1,/):\u001b[0m\n\u001b[0m                                       ^\u001b[0m\n\u001b[0;31mSyntaxError\u001b[0m\u001b[0;31m:\u001b[0m invalid syntax\n"
     ]
    }
   ],
   "source": [
    "def position_only_parameter(param1,/):\n",
    "    pass\n",
    "position_only_parameter(1)"
   ]
  },
  {
   "cell_type": "markdown",
   "metadata": {
    "pycharm": {
     "name": "#%% md\n"
    }
   },
   "source": [
    "#### Keyword only\n",
    "All the parameters followed by ``*,`` are keyword only."
   ]
  },
  {
   "cell_type": "code",
   "execution_count": 46,
   "metadata": {
    "pycharm": {
     "is_executing": false,
     "name": "#%%\n"
    }
   },
   "outputs": [
    {
     "name": "stdout",
     "output_type": "stream",
     "text": [
      "1\n"
     ]
    }
   ],
   "source": [
    "def keyword_only_parameter(*,arg):\n",
    "    print(arg)\n",
    "keyword_only_parameter(arg=1)\n",
    "\n",
    "def combined_example(position_only, /, standard, *, keyword_only):\n",
    "    pass"
   ]
  },
  {
   "cell_type": "markdown",
   "metadata": {
    "pycharm": {
     "name": "#%% md\n"
    }
   },
   "source": [
    "## Data Structure\n",
    "### Lists\n",
    "List is written as comma-seperated ``,`` values between square brackets. ``[]`` Lists might contain items of different types. Lists are **mutable**.\n",
    "#### Empty lists\n",
    "Created by an empty sqaure brackets."
   ]
  },
  {
   "cell_type": "code",
   "execution_count": null,
   "metadata": {
    "pycharm": {
     "name": "#%%\n"
    }
   },
   "outputs": [],
   "source": [
    "emptyList=[]\n",
    "print(emptyList)\n",
    "print(len(emptyList))\n"
   ]
  },
  {
   "cell_type": "markdown",
   "metadata": {
    "pycharm": {
     "name": "#%% md\n"
    }
   },
   "source": [
    "#### Functions\n",
    "- .append(x): <=> ``someList[len(someList)]=[x]``\n",
    "- .insert(position, x): insert ``x`` to ``someList[position]``\n",
    "- .remove(x): remove the **first** item in the list which is equal to ``x``\n",
    "- .clear(): remove all items from the list\n",
    "- .pop([index]): remove the item at ``[index]`` and returns it. If ``index`` is not specified, it is <=> ``pop(len(someList))``\n",
    "- .count(x): count # of times ``x`` appears in the list\n",
    "- .reverse()\n",
    "- .copy()\n",
    "- newList sorted(listToSort)"
   ]
  },
  {
   "cell_type": "markdown",
   "source": [
    "#### list comprehensions\n",
    "Use list comprehension to make new lists where each element is the result of some operations applied to each member of another sequence or iterable, or to create a subsequence of those elements that satisfy a certain condition.\n",
    "A list comprehension consists of brackets ``[]`` and an expression followed by a ``for`` statement + 0 or more ``for`` / ``if`` statements."
   ],
   "metadata": {
    "collapsed": false,
    "pycharm": {
     "name": "#%% md\n"
    }
   }
  },
  {
   "cell_type": "code",
   "execution_count": 52,
   "outputs": [
    {
     "name": "stdout",
     "text": [
      "[0, 1, 4, 9, 16, 25, 36, 49, 64, 81]\n",
      "[0, 1, 4, 9, 16, 25, 36, 49, 64, 81]\n",
      "[(1, 3), (1, 4), (2, 3), (2, 1), (2, 4), (3, 1), (3, 4)]\n"
     ],
     "output_type": "stream"
    }
   ],
   "source": [
    "squares1=list(map(lambda x: x**2, range(10)))\n",
    "print(squares1)\n",
    "squares2=[x**2 for x in range(10)]\n",
    "print(squares2)\n",
    "\n",
    "someTupleList=[(x,y) for x in [1,2,3] for y in [3,1,4] if x!=y]\n",
    "'''Equivalent to \n",
    "    someTupleList=[]\n",
    "    for x in [1,2,3]:\n",
    "        for y in [3,1,4]:\n",
    "            if x!=y:\n",
    "                someTupleList.append((x,y))\n",
    "'''\n",
    "print(someTupleList)"
   ],
   "metadata": {
    "collapsed": false,
    "pycharm": {
     "name": "#%%\n",
     "is_executing": false
    }
   }
  },
  {
   "cell_type": "markdown",
   "source": [
    "### Deque\n",
    "\n"
   ],
   "metadata": {
    "collapsed": false,
    "pycharm": {
     "name": "#%% md\n"
    }
   }
  },
  {
   "cell_type": "markdown",
   "source": [
    "### Tuple\n",
    "A tuple consists of a number of immutable values seperated by commas``,``.\n",
    "The output of a tuple is enclosed by parenthesis ``()``.\n",
    "#### Empty tuple\n",
    "Constructed by a pair of parenthesis."
   ],
   "metadata": {
    "collapsed": false,
    "pycharm": {
     "name": "#%% md\n"
    }
   }
  },
  {
   "cell_type": "code",
   "execution_count": 1,
   "outputs": [
    {
     "output_type": "stream",
     "name": "stdout",
     "text": "() 0\n('This', 'is', 'a', 'tuple') 4\n"
    }
   ],
   "source": [
    "emptyTuple=()\n",
    "print(emptyTuple, len(emptyTuple))\n",
    "someTuple=\"This\",\"is\",\"a\",\"tuple\"\n",
    "print(someTuple, len(someTuple))\n",
    "\n",
    ""
   ],
   "metadata": {
    "collapsed": false,
    "pycharm": {
     "name": "#%%\n",
     "is_executing": false
    }
   }
  },
  {
   "cell_type": "markdown",
   "source": [
    "### Set\n",
    "A set is an unordered collection with no duplicate elements, constructed by curly braces ``{}`` or ``set()`` function.\n"
   ],
   "metadata": {
    "collapsed": false,
    "pycharm": {
     "name": "#%% md\n"
    }
   }
  },
  {
   "cell_type": "code",
   "execution_count": 55,
   "outputs": [
    {
     "name": "stdout",
     "text": [
      "{}\n",
      "{'pear', 'banana', 'orange', 'apple'}\n"
     ],
     "output_type": "stream"
    }
   ],
   "source": [
    "emptySet={}\n",
    "print(emptySet)\n",
    "fruitSet= {'apple', 'orange', 'apple', 'pear', 'orange', 'banana'}\n",
    "print(fruitSet)"
   ],
   "metadata": {
    "collapsed": false,
    "pycharm": {
     "name": "#%%\n",
     "is_executing": false
    }
   }
  },
  {
   "cell_type": "markdown",
   "source": [
    "#### Operators\n",
    "- ``a-b``: return a set that contains the elements in ``a`` but not in ``b``\n",
    "- ``a|b``: return a set in ``a`` or ``b`` or both\n",
    "- ``a&b``: return a set in both ``a`` && ``b``/intersect\n",
    "- ``a^b``: return a set in ``a`` or ``b`` but not both\n",
    " \n"
   ],
   "metadata": {
    "collapsed": false,
    "pycharm": {
     "name": "#%% md\n"
    }
   }
  },
  {
   "cell_type": "markdown",
   "source": [
    "### Dictionary\n",
    "Dictionary are consist of {key, value} pairs, where ``key`` is any immutable type, eg: numbers, strings.\n",
    "Dictionary is constructed by ``{key:value, ...}`` or by ``dict()`` function of list of tuples."
   ],
   "metadata": {
    "collapsed": false,
    "pycharm": {
     "name": "#%% md\n"
    }
   }
  },
  {
   "cell_type": "code",
   "execution_count": 57,
   "outputs": [
    {
     "name": "stdout",
     "text": [
      "{'small': 3, 'medium': 6, 'large': 9}\n",
      "{'small': 3, 'medium': 6, 'large': 9}\n"
     ],
     "output_type": "stream"
    }
   ],
   "source": [
    "someDict={\"small\":3, \"medium\":6, \"large\":9 }\n",
    "print(someDict)\n",
    "someDict2=dict([(\"small\", 3), (\"medium\", 6), (\"large\", 9)])\n",
    "print(someDict2)"
   ],
   "metadata": {
    "collapsed": false,
    "pycharm": {
     "name": "#%%\n",
     "is_executing": false
    }
   }
  },
  {
   "cell_type": "markdown",
   "source": [
    "#### Functions\n",
    "- items(): returns {key, value}\n",
    "\n"
   ],
   "metadata": {
    "collapsed": false,
    "pycharm": {
     "name": "#%% md\n"
    }
   }
  },
  {
   "cell_type": "markdown",
   "source": [
    "## Modules\n",
    "A module is a file containing python source code. The file name is the module name with the suffix ``.py``.\n",
    "Within a module, the module's name is avaliable as a global variable ``__name__``.\n",
    "There are several ways to import a module.\n",
    "- ``import module_name``: importing the names of ``module_name``, but need ``module_name`` prefix to access the content(names) inside the module\n",
    "- ``from module_name import name``: importing ``name`` from module ``module_name`` to this working module\n",
    "- ``from module_name import *``: importing all names except those beginning with an underscore ``_`` from module ``module_name`` to this working module\n",
    "- ``import module_name as someName``: same as ``import module_name`` but change the prefix required to access the names inside ``module_name`` -> ``someName``\n",
    "### Execute a file\n",
    "When execute a ``.py`` file, the ``__name__`` of this file will be set to ``__main__``. This can be used to test-run a module using ``if`` statement to check.\n",
    "### Module Search Path\n",
    "built-in modules -> directories defined by ``sys.path`` variable  \n",
    "``sys.path`` order:\n",
    "1. The directory containing the ``.py`` file\n",
    "2. ``PYTHONPATH``(a list of directory names, with the same syntax as the shell variable PATH)\n",
    "3. installation-dependent default"
   ],
   "metadata": {
    "collapsed": false,
    "pycharm": {
     "name": "#%% md\n"
    }
   }
  },
  {
   "cell_type": "code",
   "execution_count": 58,
   "outputs": [
    {
     "name": "stdout",
     "text": [
      "['/home/peter/Desktop/PythonTest', '/home/peter/Desktop/PythonTest', '/usr/lib/python37.zip', '/usr/lib/python3.7', '/usr/lib/python3.7/lib-dynload', '', '/home/peter/Desktop/PythonTest/venv/lib/python3.7/site-packages', '/home/peter/Desktop/PythonTest/venv/lib/python3.7/site-packages/setuptools-40.8.0-py3.7.egg', '/home/peter/Desktop/PythonTest/venv/lib/python3.7/site-packages/pip-19.0.3-py3.7.egg', '/home/peter/Desktop/PythonTest/venv/lib/python3.7/site-packages/IPython/extensions', '/home/peter/.ipython', '/home/peter/.local/share/JetBrains/Toolbox/apps/PyCharm-P/ch-0/193.6911.25/plugins/python/helpers/pydev', '/home/peter/.local/share/JetBrains/Toolbox/apps/PyCharm-P/ch-0/193.6911.25/plugins/python/helpers-pro/jupyter_debug']\n"
     ],
     "output_type": "stream"
    }
   ],
   "source": [
    "print(sys.path)"
   ],
   "metadata": {
    "collapsed": false,
    "pycharm": {
     "name": "#%%\n",
     "is_executing": false
    }
   }
  },
  {
   "cell_type": "markdown",
   "source": [
    "### Compiled files\n",
    "To speed up loading modules (not running speed), python caches the compiled version of each module in a ``.pyc`` file.  \n",
    "Python does NOT use the cache if:\n",
    "- The module is loaded from command line\n",
    "- There is no source directory\n",
    "\n",
    "To reduce the size of compiled module, use ``-0`` to remove assertions, ``-00`` to remove assertions && ``__doc__`` strings.\n",
    "### Standard Modules\n",
    "### dir()\n",
    "- ``dir()``: returns a list of names defined in this module currently\n",
    "- ``dir(module_name)``: returns a list of all the names inside this module\n",
    "- ``dir`` does NOT list the names of built-in function and variables. Use ``dir(builtins)`` to list them"
   ],
   "metadata": {
    "collapsed": false,
    "pycharm": {
     "name": "#%% md\n"
    }
   }
  },
  {
   "cell_type": "code",
   "execution_count": 62,
   "outputs": [
    {
     "name": "stdout",
     "text": [
      "['__breakpointhook__', '__displayhook__', '__doc__', '__excepthook__', '__interactivehook__', '__loader__', '__name__', '__package__', '__spec__', '__stderr__', '__stdin__', '__stdout__', '_clear_type_cache', '_current_frames', '_debugmallocstats', '_framework', '_getframe', '_git', '_home', '_xoptions', 'abiflags', 'api_version', 'argv', 'base_exec_prefix', 'base_prefix', 'breakpointhook', 'builtin_module_names', 'byteorder', 'call_tracing', 'callstats', 'copyright', 'displayhook', 'dont_write_bytecode', 'exc_info', 'excepthook', 'exec_prefix', 'executable', 'exit', 'flags', 'float_info', 'float_repr_style', 'get_asyncgen_hooks', 'get_coroutine_origin_tracking_depth', 'get_coroutine_wrapper', 'getallocatedblocks', 'getcheckinterval', 'getdefaultencoding', 'getdlopenflags', 'getfilesystemencodeerrors', 'getfilesystemencoding', 'getprofile', 'getrecursionlimit', 'getrefcount', 'getsizeof', 'getswitchinterval', 'gettrace', 'hash_info', 'hexversion', 'implementation', 'int_info', 'intern', 'is_finalizing', 'last_traceback', 'last_type', 'last_value', 'maxsize', 'maxunicode', 'meta_path', 'modules', 'path', 'path_hooks', 'path_importer_cache', 'platform', 'prefix', 'ps1', 'ps2', 'ps3', 'set_asyncgen_hooks', 'set_coroutine_origin_tracking_depth', 'set_coroutine_wrapper', 'setcheckinterval', 'setdlopenflags', 'setprofile', 'setrecursionlimit', 'setswitchinterval', 'settrace', 'stderr', 'stdin', 'stdout', 'thread_info', 'version', 'version_info', 'warnoptions']\n",
      "['In', 'Out', '_', '_6', '_7', '__', '___', '__builtin__', '__builtins__', '__doc__', '__loader__', '__name__', '__package__', '__spec__', '_dh', '_exit_code', '_i', '_i1', '_i10', '_i11', '_i12', '_i13', '_i14', '_i15', '_i16', '_i17', '_i18', '_i19', '_i2', '_i20', '_i21', '_i22', '_i23', '_i24', '_i25', '_i26', '_i27', '_i28', '_i29', '_i3', '_i30', '_i31', '_i32', '_i33', '_i34', '_i35', '_i36', '_i37', '_i38', '_i39', '_i4', '_i40', '_i41', '_i42', '_i43', '_i44', '_i45', '_i46', '_i47', '_i48', '_i49', '_i5', '_i50', '_i51', '_i52', '_i53', '_i54', '_i55', '_i56', '_i57', '_i58', '_i59', '_i6', '_i60', '_i61', '_i62', '_i7', '_i8', '_i9', '_ih', '_ii', '_iii', '_oh', '_pydevd_bundle', 'cheeseshop', 'emptyList', 'emptySet', 'emptyTuple', 'exit', 'fruitSet', 'function_with_default_argument', 'function_with_default_argument2', 'get_ipython', 'keyword_only_parameter', 'letterList', 'numberList', 'parrot', 'pydev_jupyter_vars', 'quit', 'simpleFunction', 'someDict', 'someDict2', 'someTuple', 'someTupleList', 'squares1', 'squares2', 'str1', 'str2', 'sys', 'x']\n"
     ],
     "output_type": "stream"
    }
   ],
   "source": [
    "import sys\n",
    "print(dir(sys))\n",
    "print(dir())"
   ],
   "metadata": {
    "collapsed": false,
    "pycharm": {
     "name": "#%%\n",
     "is_executing": false
    }
   }
  },
  {
   "cell_type": "markdown",
   "source": [
    "## Package\n",
    "Similar to modules, packages group together modules. To import them, using the same syntax as importing modules.\n"
   ],
   "metadata": {
    "collapsed": false,
    "pycharm": {
     "name": "#%% md\n"
    }
   }
  },
  {
   "cell_type": "markdown",
   "metadata": {},
   "source": [
    "## I/O\n",
    "### Formatting\n",
    "- ``repr()`` returns a string for intrepreter specific representations\n",
    "- ``str()`` returns a human-readable string representation\n",
    "\n",
    "Many values, eg. strings, numbers, structures, dictionaries, have the same representation for using either functions."
   ]
  },
  {
   "cell_type": "code",
   "execution_count": 3,
   "metadata": {},
   "outputs": [
    {
     "output_type": "stream",
     "name": "stdout",
     "text": "Hello world\n'Hello world'\n3.141592653589793\n3.141592653589793\n('Hello world', 3.141592653589793)\n('Hello world', 3.141592653589793)\n"
    }
   ],
   "source": [
    "#string\n",
    "s=\"Hello world\"\n",
    "print(str(s))\n",
    "print(repr(s))\n",
    "\n",
    "#numbers\n",
    "from math import pi\n",
    "print(str(pi))\n",
    "print(repr(pi))\n",
    "\n",
    "#structures\n",
    "my_tuple=(s, pi)\n",
    "print(str(my_tuple))\n",
    "print(repr(my_tuple))"
   ]
  },
  {
   "cell_type": "markdown",
   "metadata": {},
   "source": [
    "## Formatted string literals\n",
    "Prefix the string with ``f`` or ``F`` and insert expression enclosed by curly braces ``{}``. The ``expression`` part can be specified by an optional format specifier (full list: https://docs.python.org/3/library/string.html#formatspec). "
   ]
  },
  {
   "cell_type": "code",
   "execution_count": 5,
   "metadata": {},
   "outputs": [
    {
     "output_type": "stream",
     "name": "stdout",
     "text": "The value of pi is approximately 3.1416\nSjoerd     ==>       4127\nJack       ==>       4098\nDcab       ==>       7678\n"
    }
   ],
   "source": [
    "print(f\"The value of pi is approximately {pi:.4f}\")\n",
    "table={'Sjoerd': 4127, 'Jack': 4098, 'Dcab': 7678}\n",
    "for name, number in table.items():\n",
    "    print(f\"{name:10} ==> {number:10d}\")"
   ]
  },
  {
   "cell_type": "markdown",
   "metadata": {},
   "source": [
    "Or add any number of curly braces``{}`` as placeholders, and then use ``.format()`` for string literals. The braces are then replaced by arguments in ``.format()``.\n",
    "- Empty braces ``{}`` are for positional arguments in the ``.format()`` function.\n",
    "- Named braces ``{someName}`` are for keyword arguments in the ``.format()`` functions\n",
    "- Above 2 methods can be combined."
   ]
  },
  {
   "cell_type": "code",
   "execution_count": 6,
   "metadata": {},
   "outputs": [
    {
     "output_type": "stream",
     "name": "stdout",
     "text": "The value of pi is approximately 3.141592653589793\nThis spam is absolutely horrible.\nThe story of Bill, Manfred, and Georg.\n"
    }
   ],
   "source": [
    "print(\"The value of pi is approximately {}\".format(pi))\n",
    "print('This {food} is {adjective}.'.format(food=\"spam\", adjective=\"absolutely horrible\"))\n",
    "print('The story of {}, {}, and {other}.'.format('Bill', 'Manfred', other='Georg'))"
   ]
  },
  {
   "cell_type": "markdown",
   "metadata": {},
   "source": [
    "Or format the string manually by:\n",
    "- ``.rjust(width)``: right-justifies a string in a field of a given width by padding it with spaces on the left\n",
    "- ``.ljust(width)``:\n",
    "- ``.center(width)``:\n",
    "\n",
    "These methods return a new string. If the ``width < len(string)``, they don't truncate it but return it unchanged. If really need to truncate, use the slicing \n",
    "operation ``[start:end]``\n",
    "\n",
    "- ``.zfill()``, which pads a numeric string on the left with ``0`` s."
   ]
  },
  {
   "cell_type": "markdown",
   "metadata": {},
   "source": [
    "### File I/O\n",
    "``open(filename, mode='r')`` returns a file object, ``mode``:\n",
    "- ``r``: read only (default if not specified)\n",
    "- ``w``: write only (if exist, the conetent will be deleted)\n",
    "- ``a``: append to the file end\n",
    "- ``r+``: read & write\n",
    "- ``b``: binary mode\n",
    "\n",
    "Use it within a ``with`` block to ensure the file is closed and resource is free after use. \n",
    "```python\n",
    "with open(filename, mode) as f:\n",
    "    data=f.read()\n",
    "    #...\n",
    "```\n",
    "#### methods\n",
    "- ``.read(size)``: reads ``size`` byte of data and return a string (text mode) or bytes object (binary mode). If ``size`` is omitted or negative, the entire file will be read.\n",
    "- ``.readline()``: reads a single line from the file. ``\\n`` will be stored only if the ending line of the file does NOT have a ``\\n`` \n",
    "- ``.readlines()``: reads the entire file by lines, returns a list of strings\n",
    "- ``.write(string)``: write ``string`` -> file, returns the number of characters written\n",
    "- ``.tell()``: returns current_possition-beginning in bytes\n",
    "- ``.seek(offset, whence=0)``: set current_position to ``whence+offset``. ``whence`` can be:\n",
    "    + ``0``: from beginning\n",
    "    + ``1``: from current\n",
    "    + ``2``: from ending\n",
    "\n",
    "**In text files (those opened without a b in the mode string), only seeks relative to the beginning of the file are allowed (the exception being seeking to the very file end with seek(0, 2)) and the only valid offset values are those returned from the f.tell(), or zero. Any other offset value produces undefined behaviour.**\n",
    "\n",
    "\n",
    "File object is iterable by line, so it can be used in a ``for in`` loop.\n",
    " "
   ]
  },
  {
   "cell_type": "code",
   "execution_count": 2,
   "metadata": {},
   "outputs": [
    {
     "output_type": "stream",
     "name": "stdout",
     "text": "class Student:\n    count = 0\n\n    def __init__(self, firstName, lastName):\n        self.fname = firstName\n        self.lname = lastName\n        Student.count += 1\n\n    def print_info(self):\n        print(self.fname + \" \" + self.lname)\n\n\ndef func(cond):\n    if cond is True:\n        return 1\n    else:\n        return \"wrong\"\n\nsomeDict={\"small\":3, \"medium\":6, \"large\":9 }\nfor key, value in someDict.items():\n    value=1\nprint(someDict)"
    }
   ],
   "source": [
    "with open(\"main.py\", 'r') as file:\n",
    "    for line in file:\n",
    "        print(line, end='')"
   ]
  },
  {
   "cell_type": "markdown",
   "metadata": {},
   "source": [
    "## Classes\n",
    "Each object has a class name stored in ``object.__class__``.\n",
    "### Initialization\n",
    "Done by a member function ``def __init__(self):`` inside a class. When a class defines such method, it is automatically invoked. "
   ]
  },
  {
   "cell_type": "markdown",
   "metadata": {},
   "source": [
    "### Attributes\n",
    "Data attributes **DO NOT** need to be declared. They come into existence when they are first assigned to (no matter inside ``__init__()`` or outside in other function).\n",
    "\n",
    "Method attributes are functions bounds to an object. Method are also object, that can be stored in a variable. A method will have its first argument as ``self``. So that ``SomeClass.someMethod(x)`` <=> ``x.someMethod()`` if x is a ``SomeClass`` object.\n",
    "\n",
    "If the same attribute name exists in class variable and instance variable, instance variable will be found."
   ]
  },
  {
   "cell_type": "code",
   "execution_count": 9,
   "metadata": {},
   "outputs": [
    {
     "output_type": "stream",
     "name": "stdout",
     "text": "An empty class object created!\n1\nCalled someMethod()\nCalled someMethod()\nAn empty class object created!\n"
    },
    {
     "output_type": "error",
     "ename": "AttributeError",
     "evalue": "'OriginallyEmpty' object has no attribute 'x'",
     "traceback": [
      "\u001b[0;31m---------------------------------------------------------------------------\u001b[0m",
      "\u001b[0;31mAttributeError\u001b[0m                            Traceback (most recent call last)",
      "\u001b[0;32m<ipython-input-9-800340ded952>\u001b[0m in \u001b[0;36m<module>\u001b[0;34m\u001b[0m\n\u001b[1;32m     14\u001b[0m \u001b[0;34m\u001b[0m\u001b[0m\n\u001b[1;32m     15\u001b[0m \u001b[0mobj2\u001b[0m\u001b[0;34m=\u001b[0m\u001b[0mOriginallyEmpty\u001b[0m\u001b[0;34m(\u001b[0m\u001b[0;34m)\u001b[0m \u001b[0;31m#[obj2] doesn't have data attribute [x]\u001b[0m\u001b[0;34m\u001b[0m\u001b[0;34m\u001b[0m\u001b[0m\n\u001b[0;32m---> 16\u001b[0;31m \u001b[0mprint\u001b[0m\u001b[0;34m(\u001b[0m\u001b[0mobj2\u001b[0m\u001b[0;34m.\u001b[0m\u001b[0mx\u001b[0m\u001b[0;34m)\u001b[0m\u001b[0;34m\u001b[0m\u001b[0;34m\u001b[0m\u001b[0m\n\u001b[0m",
      "\u001b[0;31mAttributeError\u001b[0m: 'OriginallyEmpty' object has no attribute 'x'"
     ]
    }
   ],
   "source": [
    "class OriginallyEmpty:\n",
    "    someClassVariable=0  #class variable, shared by all instances\n",
    "    def __init__(self):\n",
    "        print(\"An empty class object created!\")\n",
    "        self.instanceVariable=0 #instance variable, unique to each instance\n",
    "    def someMethod(self):\n",
    "        print(\"Called someMethod()\")\n",
    "\n",
    "obj=OriginallyEmpty()\n",
    "obj.x=1 #[obj] has this data attributes\n",
    "print(obj.x)\n",
    "obj.someMethod()\n",
    "OriginallyEmpty.someMethod(obj)\n",
    "\n",
    "obj2=OriginallyEmpty() #[obj2] doesn't have data attribute [x]\n",
    "print(obj2.x)"
   ]
  },
  {
   "cell_type": "markdown",
   "metadata": {},
   "source": [
    "### Inheritance\n",
    "A derived class is defined as:\n",
    "```python\n",
    "class Derived(Base):\n",
    "    #...\n",
    "```\n",
    "\n",
    "Base class must be defined in the same scope containing derived class. So it's possible to derived from a class defined in another module as: ``class Derived(someModule.Base)``\n",
    "\n",
    "Derived class may override methods of their base classes. A method of base class may calls another overrided method defined in derived class. In derived class, use ``BaseClassName.methodName(self, arguments)`` to call the method defined in ``BaseClassName``.\n",
    "\n",
    "- ``isinstance(object, type)`` check whether an instance ``object`` is an instance of ``type`` and return ``True`` or ``False``\n",
    "- ``issubclass(object, className)``\n",
    "\n",
    "#### Multiple Inheritance\n",
    "A class derived from multiple base class is defined as:\n",
    "```python\n",
    "class DerivedClass(Base1, Base2):\n",
    "    #...\n",
    "```\n",
    "When searching for a name, it does a DFS from left(Base1) -> right(Base2...)\n"
   ]
  },
  {
   "cell_type": "markdown",
   "metadata": {},
   "source": [
    "### Special class functions\n",
    "- ``__init__()``\n",
    "- "
   ]
  },
  {
   "cell_type": "markdown",
   "metadata": {},
   "source": [
    "## Iterator\n",
    "A ``for in`` loop will call ``iter(container)`` on the container object. The function returns an iterator that defines ``__next__()`` which access the elements. When there are no more elements, it raises ``StopIteration`` exception, so that the loop terminate.\n",
    "\n",
    "To support this behavior in your own class, defines 2 special methods:\n",
    "- ``__iter__()`` which returns an object that defines a ``__next__()`` method or returns the class itself if it has ``__next__()``"
   ]
  },
  {
   "cell_type": "code",
   "execution_count": 10,
   "metadata": {},
   "outputs": [
    {
     "output_type": "stream",
     "name": "stdout",
     "text": "m\na\np\ns\n"
    }
   ],
   "source": [
    "class Reverse:\n",
    "    \"\"\"Iterator for looping over a sequence backwards.\"\"\"\n",
    "    def __init__(self, data):\n",
    "        self.data = data\n",
    "        self.index = len(data)\n",
    "\n",
    "    def __iter__(self):\n",
    "        return self\n",
    "\n",
    "    def __next__(self):\n",
    "        if self.index == 0:\n",
    "            raise StopIteration\n",
    "        self.index = self.index - 1\n",
    "        return self.data[self.index]\n",
    "\n",
    "rev=Reverse(\"spam\")\n",
    "for char in rev:\n",
    "    print(char)"
   ]
  },
  {
   "cell_type": "markdown",
   "metadata": {},
   "source": [
    "### ``iter()``\n",
    "``iter(container)``: retuns an iterator object of ``container`` "
   ]
  },
  {
   "cell_type": "markdown",
   "metadata": {},
   "source": [
    "### ``enumerate()``\n",
    "``enumerate(iterable, start=0)`` returns a enumerate object consists of tuple ``(index, value)`` referenced in ``iterable``. The ``index`` starts at ``start`` and increment by 1 each time. This enumerate object can be used directly in for loops or converted into a ``list`` of ``tuples`` using ``list(enumerate_object)``.\n",
    "\n"
   ]
  },
  {
   "cell_type": "code",
   "execution_count": 2,
   "metadata": {},
   "outputs": [
    {
     "output_type": "stream",
     "name": "stdout",
     "text": "<class 'enumerate'>\n[(0, 'eat'), (1, 'sleep'), (2, 'repeat')]\n0 -> eat\n1 -> sleep\n2 -> repeat\n"
    }
   ],
   "source": [
    "words=[\"eat\",\"sleep\",\"repeat\"]\n",
    "\n",
    "obj1=enumerate(words)\n",
    "print(type(obj1))\n",
    "print(list(obj1))\n",
    "\n",
    "for i, word  in enumerate(words):\n",
    "    print(i, \"->\", word)"
   ]
  },
  {
   "cell_type": "markdown",
   "metadata": {},
   "source": [
    "## STD library\n",
    "### ``os``\n",
    "Provides functiosn for interact with the operating system\n",
    "- ``.getcwd()``: returns the current working directory\n",
    "- ``.chdir(dir)``: change the current working directory to ``dir``\n",
    "- ``.system(command)``: run ``command`` in system shell\n",
    "### ``shutil``\n",
    "Provides a higher level interface\n",
    "- ``.copyfile(src, dst)``\n",
    "- ``.move()``\n",
    "### ``sys``\n",
    "For accessing command line arguments. These arguments are stored in ``sys.argv`` as a list of string. ``sys`` also defines ``stdin``, ``stdout``, ``stderr`` objects.\n",
    "### ``re``\n",
    "Regular expression\n",
    "### ``math``\n",
    "### ``random``\n",
    "- ``.choice(sequence)``: returns a random element in ``sequence``\n",
    "- ``.sample(sequence, count)``: returns a random sample of ``count`` elements in ``sequence``\n",
    "### ``statistics``\n",
    "Basic statistical properties\n",
    "- ``.mean(data)``\n",
    "- ``.median(data)``\n",
    "- ``.variance(data)``\n",
    "### ``datetime``\n",
    "\n",
    "\n",
    "### ``doctest``\n",
    "Provides a tool for scanning a module and validating tests embedded in the docstrings. It runs the function and compare the result with the expected result in the docstrings.\n"
   ]
  },
  {
   "cell_type": "code",
   "execution_count": 7,
   "metadata": {},
   "outputs": [
    {
     "output_type": "execute_result",
     "data": {
      "text/plain": "TestResults(failed=0, attempted=1)"
     },
     "metadata": {},
     "execution_count": 7
    }
   ],
   "source": [
    "def average(values):\n",
    "    \"\"\"Computes the arithmetic mean of a list of numbers.\n",
    "\n",
    "    >>> print(average([20, 30, 70]))\n",
    "    40.0\n",
    "    \"\"\"\n",
    "    return sum(values) / len(values)\n",
    "\n",
    "import doctest\n",
    "doctest.testmod()   # automatically validate the embedded tests"
   ]
  },
  {
   "cell_type": "markdown",
   "metadata": {},
   "source": [
    "### ``threading``\n",
    "``threading`` module provides a number of synchronization primitives including locks, events, condition variables, and semaphores.\n",
    "```python\n",
    "import threading, zipfile\n",
    "\n",
    "class AsyncZip(threading.Thread):\n",
    "    def __init__(self, infile, outfile):\n",
    "        threading.Thread.__init__(self)\n",
    "        self.infile = infile\n",
    "        self.outfile = outfile\n",
    "\n",
    "    def run(self):\n",
    "        f = zipfile.ZipFile(self.outfile, 'w', zipfile.ZIP_DEFLATED)\n",
    "        f.write(self.infile)\n",
    "        f.close()\n",
    "        print('Finished background zip of:', self.infile)\n",
    "\n",
    "background = AsyncZip('mydata.txt', 'myarchive.zip')\n",
    "background.start()\n",
    "print('The main program continues to run in foreground.')\n",
    "\n",
    "background.join()    # Wait for the background task to finish\n",
    "print('Main program waited until background was done.')\n",
    "```\n"
   ]
  }
 ],
 "metadata": {
  "kernelspec": {
   "display_name": "Python 3",
   "language": "python",
   "name": "python3"
  },
  "language_info": {
   "codemirror_mode": {
    "name": "ipython",
    "version": 3
   },
   "file_extension": ".py",
   "mimetype": "text/x-python",
   "name": "python",
   "nbconvert_exporter": "python",
   "pygments_lexer": "ipython3",
   "version": "3.8.2-final"
  },
  "pycharm": {
   "stem_cell": {
    "cell_type": "raw",
    "source": [],
    "metadata": {
     "collapsed": false
    }
   }
  }
 },
 "nbformat": 4,
 "nbformat_minor": 1
}